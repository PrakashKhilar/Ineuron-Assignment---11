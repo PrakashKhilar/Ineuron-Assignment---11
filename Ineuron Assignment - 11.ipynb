{
 "cells": [
  {
   "cell_type": "markdown",
   "id": "8e0dbf3c",
   "metadata": {},
   "source": [
    "# Ineuron Assignment - 11"
   ]
  },
  {
   "cell_type": "code",
   "execution_count": 1,
   "id": "9a8ba85c",
   "metadata": {},
   "outputs": [],
   "source": [
    "# Q1 : . Create an assert statement that throws an AssertionError if the variable spam is a negative integer."
   ]
  },
  {
   "cell_type": "code",
   "execution_count": null,
   "id": "12aee287",
   "metadata": {},
   "outputs": [],
   "source": [
    "# Ans;\n",
    "assert spam >= 10, 'The spam variable is less than 10.'"
   ]
  },
  {
   "cell_type": "code",
   "execution_count": 2,
   "id": "45d8c8fc",
   "metadata": {},
   "outputs": [],
   "source": [
    "# Q2 : Write an assert statement that triggers an AssertionError \n",
    "#      if the variables eggs and bacon contain strings that are the same as each other, \n",
    "#      even if their cases are different (that is, 'hello' and 'hello' are considered the same, and 'goodbye' and 'GOODbye' are also considered the same)."
   ]
  },
  {
   "cell_type": "code",
   "execution_count": null,
   "id": "3fccae9a",
   "metadata": {},
   "outputs": [],
   "source": [
    "# Ans ;\n",
    "assert(eggs.lower() != bacon.lower(), 'The eggs and bacon variables are the same!') or assert(eggs.upper() != bacon.upper(), 'The eggs and bacon variables are the same!')"
   ]
  },
  {
   "cell_type": "code",
   "execution_count": null,
   "id": "68a9f173",
   "metadata": {},
   "outputs": [],
   "source": [
    "# Q3 : Create an assert statement that throws an AssertionError every time."
   ]
  },
  {
   "cell_type": "code",
   "execution_count": null,
   "id": "9950049b",
   "metadata": {},
   "outputs": [],
   "source": [
    "# Ans ;\n",
    "\n",
    "assert False, 'Write an assert statement that always triggers an AssertionError.'\n",
    "\n",
    "or\n",
    "\n",
    "assert 1 != 1 , 'Write an assert statement that always triggers an AssertionError.'"
   ]
  },
  {
   "cell_type": "code",
   "execution_count": null,
   "id": "11797cc1",
   "metadata": {},
   "outputs": [],
   "source": [
    "# Q4 : What are the two lines that must be present in your software in order to call logging.debug()?"
   ]
  },
  {
   "cell_type": "code",
   "execution_count": null,
   "id": "d751c5a5",
   "metadata": {},
   "outputs": [],
   "source": [
    "# Ans ;\n",
    "\n",
    "To be able to call logging.debug(), you must have these two lines at the start of your program:\n",
    "\n",
    "import logging \n",
    "logging.basicConfig(level=logging.DEBUG, format=' %(asctime)s - %(levelname)s - %(message)s')"
   ]
  },
  {
   "cell_type": "code",
   "execution_count": 4,
   "id": "5ddd9552",
   "metadata": {},
   "outputs": [],
   "source": [
    "import logging \n",
    "logging.basicConfig(level=logging.DEBUG, format=' %(asctime)s - %(levelname)s - %(message)s')"
   ]
  },
  {
   "cell_type": "code",
   "execution_count": null,
   "id": "2c4e59bb",
   "metadata": {},
   "outputs": [],
   "source": [
    "# Q5: What are the two lines that your program must have in order to have logging.debug() send a logging message to a file named programLog.txt?"
   ]
  },
  {
   "cell_type": "code",
   "execution_count": null,
   "id": "39887faa",
   "metadata": {},
   "outputs": [],
   "source": [
    "# Ans ;\n",
    "\n",
    "import logging \n",
    "logging.basicConfig(filename='programLog.txt', level=logging.DEBUG, format=' %(asctime)s - %(levelname)s - %(message)s')"
   ]
  },
  {
   "cell_type": "code",
   "execution_count": null,
   "id": "647f3851",
   "metadata": {},
   "outputs": [],
   "source": [
    "# Q6 : What are the five levels of logging?"
   ]
  },
  {
   "cell_type": "code",
   "execution_count": null,
   "id": "ff27ac54",
   "metadata": {},
   "outputs": [],
   "source": [
    "# Ans ;\n",
    "DEBUG, INFO, WARNING, ERROR and CRITICAL"
   ]
  },
  {
   "cell_type": "code",
   "execution_count": null,
   "id": "b3f26e27",
   "metadata": {},
   "outputs": [],
   "source": [
    "# Q7 : What line of code would you add to your software to disable all logging messages?"
   ]
  },
  {
   "cell_type": "code",
   "execution_count": 6,
   "id": "c320f712",
   "metadata": {},
   "outputs": [],
   "source": [
    "# Ans ;\n",
    "\n",
    "logging.disable(logging.CRITICAL)"
   ]
  },
  {
   "cell_type": "code",
   "execution_count": null,
   "id": "c4ae55f8",
   "metadata": {},
   "outputs": [],
   "source": [
    "# Q8 : Why is using logging messages better than using print() to display the same message?"
   ]
  },
  {
   "cell_type": "code",
   "execution_count": null,
   "id": "2e9746c9",
   "metadata": {},
   "outputs": [],
   "source": [
    "# Ans ;\n",
    "\n",
    "Once we're done debugging, we'll end up spending a lot of time removing print() calls from our code for each log message.\n",
    "We might even accidentally remove some print() calls that were being used for nonlog messages. \n",
    "The nice thing about log messages is that you're free to fill your program with as many as you like, \n",
    "and you can always disable them later by adding a single logging.disable(logging.CRITICAL) call.\n",
    "Unlike print(), the logging module makes it easy to switch between showing and hiding log messages."
   ]
  },
  {
   "cell_type": "code",
   "execution_count": null,
   "id": "1e6f49c5",
   "metadata": {},
   "outputs": [],
   "source": [
    "# Q9 :  What are the differences between the Step Over, Step In, and Step Out buttons in the debugger?"
   ]
  },
  {
   "cell_type": "code",
   "execution_count": null,
   "id": "6862e47d",
   "metadata": {},
   "outputs": [],
   "source": [
    "# Ans;\n",
    "\n",
    "STEP will cause the debugger to execute the next line of code and then pause again. \n",
    "If the next line of code is a function call, the debugger will \"step into\" that function and jump to the first line of code of that function.\n",
    "\n",
    "OVER will execute the next line of code, similar to the STEP button. \n",
    "However, if the next line of code is a function call, the OVER button will \"step over\" the code in the function.\n",
    "\n",
    "OUT will cause the debugger to execute lines of code at full speed until it returns from the current function."
   ]
  },
  {
   "cell_type": "code",
   "execution_count": null,
   "id": "90c88b35",
   "metadata": {},
   "outputs": [],
   "source": [
    "# Q10 : After you click Continue, when will the debugger stop ?"
   ]
  },
  {
   "cell_type": "code",
   "execution_count": null,
   "id": "4964e951",
   "metadata": {},
   "outputs": [],
   "source": [
    "# Ans ;\n",
    "\n",
    "Clicking the GO button will cause the program to execute normally until it terminates or reaches a breakpoint"
   ]
  },
  {
   "cell_type": "code",
   "execution_count": null,
   "id": "10fbb983",
   "metadata": {},
   "outputs": [],
   "source": [
    "# Q11 : What is the concept of a breakpoint?"
   ]
  },
  {
   "cell_type": "code",
   "execution_count": null,
   "id": "7dfd0875",
   "metadata": {},
   "outputs": [],
   "source": [
    "# Ans;\n",
    "\n",
    "A breakpoint can be set on a specific line of code and forces the debugger to pause whenever the program execution reaches that line."
   ]
  },
  {
   "cell_type": "code",
   "execution_count": null,
   "id": "d1441e47",
   "metadata": {},
   "outputs": [],
   "source": []
  },
  {
   "cell_type": "code",
   "execution_count": null,
   "id": "33af46f2",
   "metadata": {},
   "outputs": [],
   "source": []
  }
 ],
 "metadata": {
  "kernelspec": {
   "display_name": "Python 3 (ipykernel)",
   "language": "python",
   "name": "python3"
  },
  "language_info": {
   "codemirror_mode": {
    "name": "ipython",
    "version": 3
   },
   "file_extension": ".py",
   "mimetype": "text/x-python",
   "name": "python",
   "nbconvert_exporter": "python",
   "pygments_lexer": "ipython3",
   "version": "3.9.12"
  }
 },
 "nbformat": 4,
 "nbformat_minor": 5
}
